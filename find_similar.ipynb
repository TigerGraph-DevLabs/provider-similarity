{
 "cells": [
  {
   "cell_type": "code",
   "execution_count": 1,
   "source": [
    "import pyTigerGraph as tg\n",
    "conn = tg.TigerGraphConnection(host=\"http://3.135.225.5\", graphname=\"ProviderSimilarity\")\n",
    "\n",
    "\n",
    "preprocess = False\n",
    "if preprocess:\n",
    "    conn.runInstalledQuery(\"tg_fastRP_preprocessing\", params={\"index_attr\": \"vert_index\"}, timeout=4_096_000)"
   ],
   "outputs": [],
   "metadata": {}
  },
  {
   "cell_type": "code",
   "execution_count": null,
   "source": [
    "import time\n",
    "\n",
    "embed = False\n",
    "\n",
    "if embed:\n",
    "    params = {\"num_nodes\": 6_769_471,\n",
    "            \"num_edges\": 16_080_752 ,\n",
    "            \"k\": 3,\n",
    "            \"sampling_constant\": 3,\n",
    "            \"reduced_dimension\": 64,\n",
    "            \"normalization_strength\": -0.1,\n",
    "            \"input_weights\": \"1,2,4\", \n",
    "            \"index_attr\": \"vert_index\",\n",
    "            \"print_accum\": False,\n",
    "            \"result_attr\": \"fastrp_embedding\"}\n",
    "    t1 = time.time()\n",
    "    conn.runInstalledQuery(\"tg_fastrp\", params=params, timeout=1_024_000)\n",
    "    t2 = time.time()\n",
    "\n",
    "    print(\"Time Elapsed: %.2f Seconds\" % (t2-t1))"
   ],
   "outputs": [],
   "metadata": {}
  },
  {
   "cell_type": "code",
   "execution_count": null,
   "source": [
    "params = {\"v1\": \"207WX0120X\",\n",
    "          \"v1.type\": \"Taxonomy\",\n",
    "          \"vert_types\": \"Taxonomy\", \n",
    "          \"embeddingDim\": 64,\n",
    "          \"k\": 5}\n",
    "\n",
    "res = conn.runInstalledQuery(\"tg_embedding_cosine_similarity\", params=params)[0][\"kMostSimilar\"]\n"
   ],
   "outputs": [],
   "metadata": {}
  },
  {
   "cell_type": "code",
   "execution_count": null,
   "source": [
    "for r in res:\n",
    "    print(r[\"v_id\"], r[\"attributes\"][\"@similarityScore\"])"
   ],
   "outputs": [],
   "metadata": {}
  },
  {
   "cell_type": "code",
   "execution_count": null,
   "source": [
    "params = {\"v1\": \"1457353518\",\n",
    "          \"v1.type\": \"Individual\",\n",
    "          \"vert_types\": \"Individual\", \n",
    "          \"embeddingDim\": 64,\n",
    "          \"k\": 5}\n",
    "\n",
    "res = conn.runInstalledQuery(\"tg_embedding_cosine_similarity\", params=params, timeout=64_000)[0][\"kMostSimilar\"]"
   ],
   "outputs": [],
   "metadata": {}
  },
  {
   "cell_type": "code",
   "execution_count": null,
   "source": [
    "for r in res:\n",
    "    print(r[\"v_id\"], r[\"attributes\"][\"@similarityScore\"])"
   ],
   "outputs": [],
   "metadata": {}
  },
  {
   "cell_type": "code",
   "execution_count": null,
   "source": [
    "params = {\"v1\": \"1912997503\",\n",
    "          \"v1.type\": \"Individual\",\n",
    "          \"vert_types\": \"Individual\", \n",
    "          \"embeddingDim\": 64,\n",
    "          \"k\": 5}\n",
    "\n",
    "res = conn.runInstalledQuery(\"tg_embedding_cosine_similarity\", params=params, timeout=64_000)[0][\"kMostSimilar\"]\n",
    "for r in res:\n",
    "    print(r[\"v_id\"], r[\"attributes\"][\"@similarityScore\"])"
   ],
   "outputs": [],
   "metadata": {}
  },
  {
   "cell_type": "code",
   "execution_count": null,
   "source": [
    "params = {\"v1\": \"1457353518\", \n",
    "          \"v1.type\": \"Individual\", \n",
    "          \"v2\": \"1912997503\", \n",
    "          \"v2.type\": \"Individual\",\n",
    "          \"embedding_dim\": 64}\n",
    "\n",
    "conn.runInstalledQuery(\"tg_embedding_pairwise_cosine_similarity\", params=params)[0][\"similarity\"]"
   ],
   "outputs": [],
   "metadata": {}
  },
  {
   "cell_type": "code",
   "execution_count": 2,
   "source": [
    "# Two individuals only described by 207RA0000X taxonomy\n",
    "\n",
    "params = {\"v1\": \"1316025943\", \n",
    "          \"v1.type\": \"Individual\", \n",
    "          \"v2\": \"1306802426\", \n",
    "          \"v2.type\": \"Individual\",\n",
    "          \"embedding_dim\": 64}\n",
    "\n",
    "conn.runInstalledQuery(\"tg_embedding_pairwise_cosine_similarity\", params=params)[0][\"similarity\"]"
   ],
   "outputs": [
    {
     "output_type": "execute_result",
     "data": {
      "text/plain": [
       "1"
      ]
     },
     "metadata": {},
     "execution_count": 2
    }
   ],
   "metadata": {}
  },
  {
   "cell_type": "code",
   "execution_count": 3,
   "source": [
    "# Two individuals - both described by 207RA0000X taxonomy, but 1790766392 also has 2 other codes\n",
    "\n",
    "params = {\"v1\": \"1316025943\", \n",
    "          \"v1.type\": \"Individual\", \n",
    "          \"v2\": \"1790766392\", \n",
    "          \"v2.type\": \"Individual\",\n",
    "          \"embedding_dim\": 64}\n",
    "\n",
    "conn.runInstalledQuery(\"tg_embedding_pairwise_cosine_similarity\", params=params)[0][\"similarity\"]"
   ],
   "outputs": [
    {
     "output_type": "execute_result",
     "data": {
      "text/plain": [
       "0.65223"
      ]
     },
     "metadata": {},
     "execution_count": 3
    }
   ],
   "metadata": {}
  },
  {
   "cell_type": "code",
   "execution_count": 6,
   "source": [
    "params = {\"v1\": \"1790766392\",\n",
    "          \"v1.type\": \"Individual\",\n",
    "          \"vert_types\": \"Individual\", \n",
    "          \"embeddingDim\": 64,\n",
    "          \"k\": 5}\n",
    "\n",
    "res = conn.runInstalledQuery(\"tg_embedding_cosine_similarity\", params=params, timeout=64_000)[0][\"kMostSimilar\"]\n",
    "for r in res:\n",
    "    print(r[\"v_id\"], r[\"attributes\"][\"@similarityScore\"])"
   ],
   "outputs": [
    {
     "output_type": "stream",
     "name": "stdout",
     "text": [
      "1487652665 0.85382\n",
      "1669730859 0.7137\n",
      "1407817406 0.7137\n",
      "1578562393 0.7137\n",
      "1811262967 0.7137\n"
     ]
    }
   ],
   "metadata": {}
  },
  {
   "cell_type": "code",
   "execution_count": null,
   "source": [],
   "outputs": [],
   "metadata": {}
  }
 ],
 "metadata": {
  "orig_nbformat": 4,
  "language_info": {
   "name": "python",
   "version": "3.7.11",
   "mimetype": "text/x-python",
   "codemirror_mode": {
    "name": "ipython",
    "version": 3
   },
   "pygments_lexer": "ipython3",
   "nbconvert_exporter": "python",
   "file_extension": ".py"
  },
  "kernelspec": {
   "name": "python3",
   "display_name": "Python 3.7.11 64-bit ('provider-sim': conda)"
  },
  "interpreter": {
   "hash": "ce5add57b314278b47bc020a645e44cc088be599e679d6c675c1ea6c78a6ea7c"
  }
 },
 "nbformat": 4,
 "nbformat_minor": 2
}