{
 "cells": [
  {
   "cell_type": "code",
   "execution_count": 1,
   "source": [
    "import pyTigerGraph as tg\n",
    "conn = tg.TigerGraphConnection(host=\"http://3.137.139.178\", graphname=\"ProviderSimilarity\")\n",
    "#conn.runInstalledQuery(\"tg_fastRP_preprocessing\", params={\"index_attr\": \"vert_index\"}, timeout=4_096_000)"
   ],
   "outputs": [],
   "metadata": {}
  },
  {
   "cell_type": "code",
   "execution_count": 2,
   "source": [
    "import time\n",
    "\n",
    "params = {\"num_nodes\": 6_769_471,\n",
    "          \"num_edges\": 16_080_752 ,\n",
    "          \"k\": 3,\n",
    "          \"sampling_constant\": 3,\n",
    "          \"reduced_dimension\": 64,\n",
    "          \"normalization_strength\": -0.1,\n",
    "          \"input_weights\": \"1,2,4\", \n",
    "          \"index_attr\": \"vert_index\",\n",
    "          \"print_accum\": False,\n",
    "          \"result_attr\": \"fastrp_embedding\"}\n",
    "t1 = time.time()\n",
    "conn.runInstalledQuery(\"tg_fastrp\", params=params, timeout=1_024_000)\n",
    "t2 = time.time()"
   ],
   "outputs": [],
   "metadata": {}
  },
  {
   "cell_type": "code",
   "execution_count": 3,
   "source": [
    "print(\"Time Elapsed: %.2f Seconds\" % (t2-t1))"
   ],
   "outputs": [
    {
     "output_type": "stream",
     "name": "stdout",
     "text": [
      "Time Elapsed: 340.11 Seconds\n"
     ]
    }
   ],
   "metadata": {}
  },
  {
   "cell_type": "code",
   "execution_count": 4,
   "source": [
    "params = {\"v1\": \"207RE0101X\",\n",
    "          \"v1.type\": \"Taxonomy\",\n",
    "          \"vert_types\": \"Taxonomy\", \n",
    "          \"embeddingDim\": 64,\n",
    "          \"k\": 5}\n",
    "\n",
    "res = conn.runInstalledQuery(\"tg_embedding_cosine_similarity\", params=params)[0][\"kMostSimilar\"]\n"
   ],
   "outputs": [],
   "metadata": {}
  },
  {
   "cell_type": "code",
   "execution_count": 5,
   "source": [
    "for r in res:\n",
    "    print(r[\"v_id\"], r[\"attributes\"][\"@similarityScore\"])"
   ],
   "outputs": [
    {
     "output_type": "stream",
     "name": "stdout",
     "text": [
      "2278P1005X inf\n",
      "261QR0400X inf\n",
      "103TF0000X inf\n",
      "246YC3302X inf\n",
      "3336N0007X inf\n"
     ]
    }
   ],
   "metadata": {}
  },
  {
   "cell_type": "code",
   "execution_count": null,
   "source": [],
   "outputs": [],
   "metadata": {}
  }
 ],
 "metadata": {
  "orig_nbformat": 4,
  "language_info": {
   "name": "python",
   "version": "3.7.11",
   "mimetype": "text/x-python",
   "codemirror_mode": {
    "name": "ipython",
    "version": 3
   },
   "pygments_lexer": "ipython3",
   "nbconvert_exporter": "python",
   "file_extension": ".py"
  },
  "kernelspec": {
   "name": "python3",
   "display_name": "Python 3.7.11 64-bit ('provider-sim': conda)"
  },
  "interpreter": {
   "hash": "ce5add57b314278b47bc020a645e44cc088be599e679d6c675c1ea6c78a6ea7c"
  }
 },
 "nbformat": 4,
 "nbformat_minor": 2
}