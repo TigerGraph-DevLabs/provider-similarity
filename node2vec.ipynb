{
 "cells": [
  {
   "cell_type": "code",
   "execution_count": 1,
   "source": [
    "import pyTigerGraph as tg\n",
    "\n",
    "conn = tg.TigerGraphConnection(host=\"http://52.14.253.74\", graphname=\"ProviderSimilarity\")"
   ],
   "outputs": [],
   "metadata": {}
  },
  {
   "cell_type": "code",
   "execution_count": 2,
   "source": [
    "params = {\n",
    "    \"batches\": 20,\n",
    "    \"walk_length\": 6,\n",
    "    \"num_walks\": 4,\n",
    "    \"p\": 1,\n",
    "    \"q\": 1\n",
    "}\n",
    "\n",
    "res = conn.runInstalledQuery(\"tg_weighted_random_walk\", params=params, timeout=1_000_000_000)"
   ],
   "outputs": [],
   "metadata": {}
  },
  {
   "cell_type": "code",
   "execution_count": null,
   "source": [],
   "outputs": [],
   "metadata": {}
  }
 ],
 "metadata": {
  "orig_nbformat": 4,
  "language_info": {
   "name": "python",
   "version": "3.7.11",
   "mimetype": "text/x-python",
   "codemirror_mode": {
    "name": "ipython",
    "version": 3
   },
   "pygments_lexer": "ipython3",
   "nbconvert_exporter": "python",
   "file_extension": ".py"
  },
  "kernelspec": {
   "name": "python3",
   "display_name": "Python 3.7.11 64-bit ('provider-sim': conda)"
  },
  "interpreter": {
   "hash": "ce5add57b314278b47bc020a645e44cc088be599e679d6c675c1ea6c78a6ea7c"
  }
 },
 "nbformat": 4,
 "nbformat_minor": 2
}